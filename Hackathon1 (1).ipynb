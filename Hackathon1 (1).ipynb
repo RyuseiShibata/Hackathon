{
  "nbformat": 4,
  "nbformat_minor": 0,
  "metadata": {
    "colab": {
      "provenance": []
    },
    "kernelspec": {
      "name": "python3",
      "display_name": "Python 3"
    },
    "language_info": {
      "name": "python"
    }
  },
  "cells": [
    {
      "cell_type": "code",
      "source": [
        "# 基本\n",
        "a = \"私は\"\n",
        "b = \"芝田です\"\n",
        "c = a + b\n",
        "print(c)"
      ],
      "metadata": {
        "colab": {
          "base_uri": "https://localhost:8080/"
        },
        "id": "-rZPCcXaNKSW",
        "outputId": "24c344d8-f802-4f5f-94b1-8ddeb6528e62"
      },
      "execution_count": null,
      "outputs": [
        {
          "output_type": "stream",
          "name": "stdout",
          "text": [
            "私は芝田です\n"
          ]
        }
      ]
    },
    {
      "cell_type": "code",
      "source": [
        "neko_list = [\"peko\", \"pochi\", \"kuro\", \"tama\"]\n",
        "print(\"リスト全部表示してみる：\",neko_list)\n",
        "print(\"最初の要素だけ表示してみる：\",neko_list[0])\n",
        "print(\"最初から3個表示してみる：\",neko_list[0:3])"
      ],
      "metadata": {
        "colab": {
          "base_uri": "https://localhost:8080/"
        },
        "id": "to34ND--NaQI",
        "outputId": "f7ee13db-f052-42c2-b34b-b5503c8ab787"
      },
      "execution_count": null,
      "outputs": [
        {
          "output_type": "stream",
          "name": "stdout",
          "text": [
            "リスト全部表示してみる： ['peko', 'pochi', 'kuro', 'tama']\n",
            "最初の要素だけ表示してみる： peko\n",
            "最初から3個表示してみる： ['peko', 'pochi', 'kuro']\n"
          ]
        }
      ]
    },
    {
      "cell_type": "code",
      "source": [
        "pip install openai"
      ],
      "metadata": {
        "colab": {
          "base_uri": "https://localhost:8080/"
        },
        "collapsed": true,
        "id": "T2Q5DbgeOqtl",
        "outputId": "4e97b127-5ca0-4de6-e41d-cba493f47135"
      },
      "execution_count": null,
      "outputs": [
        {
          "output_type": "stream",
          "name": "stdout",
          "text": [
            "Requirement already satisfied: openai in /usr/local/lib/python3.11/dist-packages (1.61.1)\n",
            "Requirement already satisfied: anyio<5,>=3.5.0 in /usr/local/lib/python3.11/dist-packages (from openai) (3.7.1)\n",
            "Requirement already satisfied: distro<2,>=1.7.0 in /usr/local/lib/python3.11/dist-packages (from openai) (1.9.0)\n",
            "Requirement already satisfied: httpx<1,>=0.23.0 in /usr/local/lib/python3.11/dist-packages (from openai) (0.28.1)\n",
            "Requirement already satisfied: jiter<1,>=0.4.0 in /usr/local/lib/python3.11/dist-packages (from openai) (0.8.2)\n",
            "Requirement already satisfied: pydantic<3,>=1.9.0 in /usr/local/lib/python3.11/dist-packages (from openai) (2.10.6)\n",
            "Requirement already satisfied: sniffio in /usr/local/lib/python3.11/dist-packages (from openai) (1.3.1)\n",
            "Requirement already satisfied: tqdm>4 in /usr/local/lib/python3.11/dist-packages (from openai) (4.67.1)\n",
            "Requirement already satisfied: typing-extensions<5,>=4.11 in /usr/local/lib/python3.11/dist-packages (from openai) (4.12.2)\n",
            "Requirement already satisfied: idna>=2.8 in /usr/local/lib/python3.11/dist-packages (from anyio<5,>=3.5.0->openai) (3.10)\n",
            "Requirement already satisfied: certifi in /usr/local/lib/python3.11/dist-packages (from httpx<1,>=0.23.0->openai) (2025.1.31)\n",
            "Requirement already satisfied: httpcore==1.* in /usr/local/lib/python3.11/dist-packages (from httpx<1,>=0.23.0->openai) (1.0.7)\n",
            "Requirement already satisfied: h11<0.15,>=0.13 in /usr/local/lib/python3.11/dist-packages (from httpcore==1.*->httpx<1,>=0.23.0->openai) (0.14.0)\n",
            "Requirement already satisfied: annotated-types>=0.6.0 in /usr/local/lib/python3.11/dist-packages (from pydantic<3,>=1.9.0->openai) (0.7.0)\n",
            "Requirement already satisfied: pydantic-core==2.27.2 in /usr/local/lib/python3.11/dist-packages (from pydantic<3,>=1.9.0->openai) (2.27.2)\n"
          ]
        }
      ]
    },
    {
      "cell_type": "code",
      "source": [
        "# OpenAI APIキーを設定\n",
        "OPENAI_API_KEY = \"\""
      ],
      "metadata": {
        "id": "IWt2JlduO7K5"
      },
      "execution_count": null,
      "outputs": []
    },
    {
      "cell_type": "code",
      "execution_count": null,
      "metadata": {
        "colab": {
          "base_uri": "https://localhost:8080/"
        },
        "id": "Anr4ghzlbXqA",
        "outputId": "a35e2288-d603-4141-acb2-a15bd7ff4967",
        "collapsed": true
      },
      "outputs": [
        {
          "output_type": "stream",
          "name": "stdout",
          "text": [
            "ChatGPTと対話を開始します。'exit'と入力すると終了します。\n",
            "\n",
            "You: おっす！\n",
            "ChatGPT: おっす！元気か？今日も一緒に修行頑張ろうぜ！何か手伝えることがあったら、遠慮なく言ってくれよな！\n",
            "You: こんにちは\n",
            "ChatGPT: こんにちは！今日はどんなことをする予定だ？何か一緒に話したいことや聞きたいことがあったら教えてくれよ！\n",
            "You: exit\n",
            "終了します。\n"
          ]
        }
      ],
      "source": [
        "import openai\n",
        "\n",
        "# システムプロンプト（必要なら後から変更可能）\n",
        "SYSTEM_PROMPT = \"あなたは優秀なAIアシスタントです。\"  # ここを変更すればシステムプロンプトを変更可能\n",
        "#SYSTEM_PROMPT = \"あなたは優秀なドラゴンボール孫悟空です。\"\n",
        "#SYSTEM_PROMPT = \"あなたはジョークが得意なAIアシスタントです。必ず面白い返答をしてください。\"\n",
        "\n",
        "def chat_with_gpt():\n",
        "    print(\"ChatGPTと対話を開始します。'exit'と入力すると終了します。\\n\")\n",
        "\n",
        "    # APIクライアントを作成\n",
        "    client = openai.OpenAI(api_key=OPENAI_API_KEY)\n",
        "\n",
        "    # 初期メッセージリスト（システムプロンプトを含む）\n",
        "    messages = [{\"role\": \"system\", \"content\": SYSTEM_PROMPT}]\n",
        "\n",
        "    while True:\n",
        "        user_input = input(\"You: \")\n",
        "        if user_input.lower() == \"exit\":\n",
        "            print(\"終了します。\")\n",
        "            break\n",
        "\n",
        "        messages.append({\"role\": \"user\", \"content\": user_input})\n",
        "\n",
        "        response = client.chat.completions.create(\n",
        "            model=\"gpt-4o\",\n",
        "            messages=messages\n",
        "        )\n",
        "\n",
        "        reply = response.choices[0].message.content\n",
        "        print(\"ChatGPT:\", reply)\n",
        "\n",
        "        # 応答を履歴に追加\n",
        "        messages.append({\"role\": \"assistant\", \"content\": reply})\n",
        "\n",
        "if __name__ == \"__main__\":\n",
        "    chat_with_gpt()"
      ]
    },
    {
      "cell_type": "code",
      "source": [],
      "metadata": {
        "id": "cfnyp1T6JGAG"
      },
      "execution_count": null,
      "outputs": []
    }
  ]
}