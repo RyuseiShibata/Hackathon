{
  "nbformat": 4,
  "nbformat_minor": 0,
  "metadata": {
    "colab": {
      "provenance": []
    },
    "kernelspec": {
      "name": "python3",
      "display_name": "Python 3"
    },
    "language_info": {
      "name": "python"
    }
  },
  "cells": [
    {
      "cell_type": "code",
      "execution_count": null,
      "metadata": {
        "collapsed": true,
        "id": "vJCXOn0Eydvw"
      },
      "outputs": [],
      "source": [
        "pip install openai-agents"
      ]
    },
    {
      "cell_type": "code",
      "source": [
        "import os\n",
        "os.environ[\"OPENAI_API_KEY\"] = \"API KEY\""
      ],
      "metadata": {
        "id": "0pcLngVBzgA7"
      },
      "execution_count": 23,
      "outputs": []
    },
    {
      "cell_type": "code",
      "source": [
        "from agents import Agent, Runner\n",
        "\n",
        "# エージェントの作成\n",
        "agent = Agent(name=\"Assistant\", instructions=\"あなたは役に立つアシスタントです\")\n",
        "\n",
        "# エージェントの実行\n",
        "result = Runner.run_sync(agent, \"家族について俳句を書いてください。\")\n",
        "print(result.final_output)"
      ],
      "metadata": {
        "collapsed": true,
        "id": "jYgisnXsy8Rh"
      },
      "execution_count": null,
      "outputs": []
    },
    {
      "source": [
        "from agents import Agent, InputGuardrail, GuardrailFunctionOutput, Runner\n",
        "from pydantic import BaseModel\n",
        "import asyncio\n",
        "\n",
        "# 数学家庭教師エージェントの定義\n",
        "math_tutor_agent = Agent(\n",
        "    name=\"数学家庭教師\",\n",
        "    handoff_description=\"数学の質問に特化したエージェント\",\n",
        "    instructions=\"あなたは数学の問題を手助けします。各ステップで論理的な説明を行い、例を含めてください。\",\n",
        ")\n",
        "\n",
        "# 歴史家庭教師エージェントの定義\n",
        "history_tutor_agent = Agent(\n",
        "    name=\"歴史家庭教師\",\n",
        "    handoff_description=\"歴史の質問に特化したエージェント\",\n",
        "    instructions=\"あなたは歴史に関する質問を手助けします。重要な出来事や背景を明確に説明してください。\",\n",
        ")\n",
        "\n",
        "# 宿題に関する質問かどうかを判断するモデル\n",
        "class HomeworkOutput(BaseModel):\n",
        "    is_homework: bool  # 宿題に関する質問かどうか\n",
        "    reasoning: str  # その判断の理由\n",
        "\n",
        "# ガードレールエージェントの定義\n",
        "guardrail_agent = Agent(\n",
        "    name=\"ガードレールチェック\",\n",
        "    instructions=\"ユーザーが宿題について質問しているか確認してください。\",\n",
        "    output_type=HomeworkOutput,\n",
        ")\n",
        "\n",
        "# ガードレール関数の定義\n",
        "async def homework_guardrail(ctx, agent, input_data):\n",
        "    result = await Runner.run(guardrail_agent, input_data, context=ctx.context)\n",
        "    final_output = result.final_output_as(HomeworkOutput)\n",
        "    return GuardrailFunctionOutput(\n",
        "        output_info=final_output,\n",
        "        tripwire_triggered=not final_output.is_homework,\n",
        "    )\n",
        "\n",
        "# トリアージエージェントの定義\n",
        "triage_agent = Agent(\n",
        "    name=\"トリアージエージェント\",\n",
        "    instructions=\"ユーザーの質問が宿題に関するものかを判断し、適切なエージェントを選択してください。\",\n",
        "    handoffs=[history_tutor_agent, math_tutor_agent], # ハンドオフ\n",
        "    input_guardrails=[\n",
        "        InputGuardrail(guardrail_function=homework_guardrail),\n",
        "    ],\n",
        ")\n",
        "\n",
        "# メイン\n",
        "async def main():\n",
        "    # 「アメリカの最初の大統領は誰ですか？」の質問を処理\n",
        "    try:\n",
        "        user_question = input(\"質問を入力してください（例：アメリカの初代大統領は誰ですか？、2 + 2 はいくつですか？）：\")\n",
        "        result = await Runner.run(triage_agent,user_question)\n",
        "        print(result.final_output)\n",
        "    except Exception as e:\n",
        "        print(\"エラー:私には役不足です。ごめんなさい。\")\n",
        "\n",
        "# メインの実行\n",
        "if __name__ == \"__main__\":\n",
        "    asyncio.run(main())"
      ],
      "cell_type": "code",
      "metadata": {
        "id": "y5aQlIb1zZjI"
      },
      "execution_count": null,
      "outputs": []
    },
    {
      "cell_type": "code",
      "source": [
        "from agents import Agent, Runner\n",
        "import asyncio\n",
        "\n",
        "# 数学家庭教師エージェントの定義\n",
        "math_tutor_agent = Agent(\n",
        "    name=\"数学家庭教師\",\n",
        "    handoff_description=\"数学の質問に特化したエージェント\",\n",
        "    instructions=\"あなたは数学の問題を手助けします。各ステップで論理的な説明を行い、例を含めてください。\",\n",
        ")\n",
        "\n",
        "# 歴史家庭教師エージェントの定義\n",
        "history_tutor_agent = Agent(\n",
        "    name=\"歴史家庭教師\",\n",
        "    handoff_description=\"歴史の質問に特化したエージェント\",\n",
        "    instructions=\"あなたは歴史に関する質問を手助けします。重要な出来事や背景を明確に説明してください。\",\n",
        ")\n",
        "\n",
        "# トリアージエージェントの定義\n",
        "triage_agent = Agent(\n",
        "    name=\"トリアージエージェント\",\n",
        "    instructions=\"ユーザーの質問の内容を判断し、数学または歴史の適切な家庭教師エージェントに転送してください。\",\n",
        "    handoffs=[history_tutor_agent, math_tutor_agent], # ハンドオフ\n",
        ")\n",
        "\n",
        "# メイン\n",
        "async def main():\n",
        "    # 標準入力から質問を受け取る\n",
        "    user_question = input(\"質問を入力してください（例：アメリカの初代大統領は誰ですか？、2 + 2 はいくつですか？）：\")\n",
        "    result = await Runner.run(triage_agent, user_question)\n",
        "    print(result.final_output)\n",
        "\n",
        "# メインの実行\n",
        "if __name__ == \"__main__\":\n",
        "    asyncio.run(main())"
      ],
      "metadata": {
        "collapsed": true,
        "id": "afzirQEa8DX0"
      },
      "execution_count": null,
      "outputs": []
    },
    {
      "cell_type": "code",
      "source": [
        "from agents import Agent, Runner\n",
        "import asyncio\n",
        "from typing import List\n",
        "\n",
        "# 感情分析エージェント\n",
        "sentiment_analyzer_agent = Agent(\n",
        "    name=\"感情分析エージェント\",\n",
        "    instructions=\"\"\"与えられた製品レビューの感情を分析し、ポジティブ、ネガティブ、またはニュートラルに分類してください。\n",
        "レビューごとに感情と、その理由となる根拠を簡潔に示してください。\"\"\",\n",
        "    model=\"gpt-4o\",\n",
        ")\n",
        "\n",
        "# 機能評価エージェント\n",
        "feature_evaluator_agent = Agent(\n",
        "    name=\"機能評価エージェント\",\n",
        "    instructions=\"\"\"与えられた製品レビューから言及されている主要な機能（例：バッテリー、カメラ、デザイン、操作性、ソフトウェアなど）を抽出し、それぞれの機能に対する評価（良い点、悪い点など）をレビューに基づいて特定してください。\"\"\",\n",
        "    model=\"gpt-4o\",\n",
        ")\n",
        "\n",
        "# 競合製品比較エージェント\n",
        "competitor_comparison_agent = Agent(\n",
        "    name=\"競合製品比較エージェント\",\n",
        "    instructions=\"\"\"与えられた製品レビューの中に競合他社の製品に関する言及があれば、それを特定し、レビュー内で比較されている内容（価格、性能など）と、それに対する感情を分析してください。\"\"\",\n",
        "    model=\"gpt-4o\",\n",
        ")\n",
        "\n",
        "async def analyze_reviews(review):\n",
        "    \"\"\"複数のエージェントにレビューを並行して分析させる関数\"\"\"\n",
        "    sentiment_tasks = await Runner.run(sentiment_analyzer_agent, review)\n",
        "    feature_tasks = await Runner.run(feature_evaluator_agent, review)\n",
        "    competitor_tasks = await Runner.run(competitor_comparison_agent, review)\n",
        "\n",
        "    # 結果の統合と表示\n",
        "    print(\"\\n--- 感情分析 ---\")\n",
        "    print(sentiment_tasks.final_output)\n",
        "\n",
        "    print(\"\\n--- 機能評価 ---\")\n",
        "    print(feature_tasks.final_output)\n",
        "\n",
        "    print(\"\\n--- 競合製品比較 ---\")\n",
        "    print(competitor_tasks.final_output)\n",
        "\n",
        "# メイン\n",
        "async def main():\n",
        "    # 製品レビューのリスト（例）\n",
        "    product_reviews = input(\"製品レビュー：\")\n",
        "    await analyze_reviews(product_reviews)\n",
        "\n",
        "if __name__ == \"__main__\":\n",
        "    asyncio.run(main())"
      ],
      "metadata": {
        "id": "hvGBMVas-Zol"
      },
      "execution_count": null,
      "outputs": []
    },
    {
      "cell_type": "code",
      "source": [],
      "metadata": {
        "id": "9i4RefV3begU"
      },
      "execution_count": 30,
      "outputs": []
    },
    {
      "cell_type": "code",
      "source": [],
      "metadata": {
        "id": "rJQDfHOJeMmD"
      },
      "execution_count": null,
      "outputs": []
    }
  ]
}